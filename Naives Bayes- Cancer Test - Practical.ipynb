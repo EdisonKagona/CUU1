{
 "cells": [
  {
   "cell_type": "markdown",
   "metadata": {},
   "source": [
    "# PRACTICAL:  Upload this file to the system before the closing time of the test."
   ]
  },
  {
   "cell_type": "markdown",
   "metadata": {},
   "source": [
    "Your Name: .............\n",
    "\n",
    "Your Registration Number: ................."
   ]
  },
  {
   "cell_type": "markdown",
   "metadata": {},
   "source": [
    "Bayes' Formula  (Mammogram probabilities)\n",
    "\n",
    "Bayes' formula is an important method for computing conditional probabilities. It is often used to compute posterior probabilities (as opposed to priorior probabilities) given observations. For example, a patient is observed to have a certain symptom, and Bayes' formula can be used to compute the probability that a diagnosis is correct, given that observation. We illustrate this idea with details practically as seen in the python code below:\n",
    "\n",
    "Approximately 1% of women aged 40-50 have breast cancer. A woman with breast cancer has a 90% chance of a positive test from a mammogram, while a woman without has a 10% chance of a false positive result.\n",
    "\n",
    "Using the information given below, write the missing code that matches the tests given in the last section of both TASK A and TASK B.\n",
    "NOTE: Your program should run and match the test results given as answers to the set parameters.\n",
    "\n",
    "\n"
   ]
  },
  {
   "cell_type": "markdown",
   "metadata": {},
   "source": [
    "## Program code. This focuses on the Negative Instance of the same data set(cancer data)"
   ]
  },
  {
   "cell_type": "code",
   "execution_count": null,
   "metadata": {},
   "outputs": [],
   "source": [
    "def bayesRuleNeg(prior, sensitivity, specitivity):\n",
    "    \"\"\"\n",
    "    Generate total, joint and conditional probabilities \n",
    "    using Bayes rule\n",
    "    \n",
    "    Parameters\n",
    "    ------------\n",
    "    prior: number\n",
    "        The prior probability e.g. p(c)\n",
    "    sensitivity: number\n",
    "        Probability a test returns psoitive given c \n",
    "        the prior condition e.g p(pos|c)\n",
    "    specitivity: number\n",
    "        Probability a test returns negative given ~c e.g p(neg|~c)\n",
    "    \n",
    "    Output\n",
    "    -----------\n",
    "    p(c,Neg) : joint probability of having cancer and test result being Negative (p_c_and_Neg)\n",
    "    p(~c,Neg) : joint probability of not having cancer and the test result being Negative (p_notc_and_Neg)\n",
    "    p_total: total probability of test result being Negative (p_total)\n",
    "    p(c|Neg) : conditional probability of having cancer given test is Negative (p_c_giv_Neg)\n",
    "    p(~c|Neg) : conditional probability of not having cancer given test is Negative (p_notc_giv_Neg)\n",
    "    \"\"\"\n",
    "    \n",
    "    #YOUR CODE goes here\n",
    "    \n",
    "\n",
    "    \n",
    "    result = [p_c_and_Neg, p_notc_and_Neg, p_total, p_c_giv_Neg, p_notc_giv_Neg]  \n",
    "    print (result)\n",
    "    return result\n",
    "  \n",
    "\n",
    "    \n",
    "\n"
   ]
  },
  {
   "cell_type": "code",
   "execution_count": null,
   "metadata": {},
   "outputs": [],
   "source": [
    "#Testing:\n",
    "#---------\n",
    "prior = 0.01\n",
    "sensitivity = 0.9\n",
    "specitivity = 0.9\n",
    "\n",
    "result = bayesRuleNeg(prior, sensitivity, specitivity)"
   ]
  },
  {
   "cell_type": "code",
   "execution_count": null,
   "metadata": {},
   "outputs": [],
   "source": [
    "assert result[0] == 0.001, \"Something is wrong, try again!\"\n",
    "assert result[1] == 0.891, \"Something is wrong, try again!\"\n",
    "assert result[2] == 0.892, \"Something is wrong, try again!\"\n",
    "assert round(result[3], 4) == 0.0011, \"Something is wrong, try again!\"\n",
    "assert round(result[4], 4) == 0.9989, \"Something is wrong, try again!\"\n"
   ]
  },
  {
   "cell_type": "markdown",
   "metadata": {},
   "source": [
    "# TASK 2:"
   ]
  },
  {
   "cell_type": "markdown",
   "metadata": {},
   "source": [
    "### In this task 2. You will focus on building a solution for the positive instance based on the guidlines below"
   ]
  },
  {
   "cell_type": "code",
   "execution_count": null,
   "metadata": {},
   "outputs": [],
   "source": [
    "def bayesRulePos(prior, sensitivity, specitivity):\n",
    "    \"\"\"\n",
    "    Generate total, joint and conditional probabilities \n",
    "    using Bayes rule\n",
    "    \n",
    "    Parameters\n",
    "    ------------\n",
    "    prior: number---In English this is refered to as probability distribution that would express \n",
    "    one's beliefs about this quantity \n",
    "    before some evidence is taken into account.\n",
    "        The prior probability e.g. p(c)\n",
    "    sensitivity: number\n",
    "        Probability a test returns positive given c \n",
    "        the prior condition e.g p(pos|c)\n",
    "    specitivity: number\n",
    "        Probability a test returns negative given ~c e.g p(neg|~c)\n",
    "    \n",
    "    Output\n",
    "    -----------\n",
    "    p(c,pos) : joint probability of having cancer and test result being positive (p_c_and_pos)\n",
    "    p(~c,pos) : joint probability of not having cancer and the test result being positive (p_notc_and_pos)\n",
    "    p_total: total probability of test result being positive (p_total)\n",
    "    p(c|pos) : conditional probability of having cancer given test is positive (p_c_giv_pos)\n",
    "    p(~c|pos) : conditional probability of not having cancer given test is positive (p_notc_giv_pos)\n",
    "    \"\"\"\n",
    "       #YOUR CODE goes here\n",
    "  \n",
    "\n",
    "    \n",
    "    result = [p_c_and_pos, p_notc_and_pos, p_total, p_c_giv_pos, p_notc_giv_pos]\n",
    "    \n",
    "    return result"
   ]
  },
  {
   "cell_type": "code",
   "execution_count": null,
   "metadata": {},
   "outputs": [],
   "source": [
    "#Testing:\n",
    "#---------\n",
    "prior = 0.01\n",
    "sensitivity = 0.9\n",
    "specitivity = 0.9\n",
    "\n",
    "result = bayesRulePos(prior, sensitivity, specitivity)"
   ]
  },
  {
   "cell_type": "code",
   "execution_count": null,
   "metadata": {},
   "outputs": [],
   "source": [
    "assert result[0] == 0.009, \"Something is wrong, try again!\"\n",
    "assert result[1] == 0.099, \"Something is wrong, try again!\"\n",
    "assert result[2] == 0.108, \"Something is wrong, try again!\"\n",
    "assert round(result[3], 4) == 0.0833, \"Something is wrong, try again!\"\n",
    "assert round(result[4], 4) == 0.9167, \"Something is wrong, try again!\""
   ]
  },
  {
   "cell_type": "markdown",
   "metadata": {},
   "source": [
    "# GOOD LUCK "
   ]
  }
 ],
 "metadata": {
  "kernelspec": {
   "display_name": "Python 3",
   "language": "python",
   "name": "python3"
  },
  "language_info": {
   "codemirror_mode": {
    "name": "ipython",
    "version": 3
   },
   "file_extension": ".py",
   "mimetype": "text/x-python",
   "name": "python",
   "nbconvert_exporter": "python",
   "pygments_lexer": "ipython3",
   "version": "3.7.6"
  }
 },
 "nbformat": 4,
 "nbformat_minor": 2
}
